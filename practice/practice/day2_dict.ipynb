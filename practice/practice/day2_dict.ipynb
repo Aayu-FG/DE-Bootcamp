{
 "cells": [
  {
   "cell_type": "code",
   "execution_count": 1,
   "id": "e50d4f00",
   "metadata": {},
   "outputs": [
    {
     "name": "stdout",
     "output_type": "stream",
     "text": [
      "{'Laptop': 75000, 'Smartphone': 35000, 'Headphones': 1500, 'Keyboard': 900}\n"
     ]
    }
   ],
   "source": [
    "#Creating Dictionaries\n",
    "\n",
    "product_prices = {\n",
    "    \"Laptop\": 75000,\n",
    "    \"Smartphone\": 35000,\n",
    "    \"Headphones\": 1500,\n",
    "    \"Keyboard\": 900\n",
    "}\n",
    "print(product_prices)"
   ]
  },
  {
   "cell_type": "code",
   "execution_count": 6,
   "id": "a76bd167",
   "metadata": {},
   "outputs": [
    {
     "name": "stdout",
     "output_type": "stream",
     "text": [
      "Employee Name: Sona\n",
      "Department: IT\n",
      "Salary: 50000\n"
     ]
    }
   ],
   "source": [
    "#Creating mixed value type dictionaries\n",
    "employee = {\n",
    "    \"name\": \"Sona\",\n",
    "    \"department\": \"IT\",\n",
    "    \"salary\": 50000\n",
    "}\n",
    "\n",
    "print(f\"Employee Name: {employee['name']}\")\n",
    "print(f\"Department: {employee['department']}\")\n",
    "print(f\"Salary: {employee['salary']}\")"
   ]
  },
  {
   "cell_type": "code",
   "execution_count": 7,
   "id": "e563ac74",
   "metadata": {},
   "outputs": [
    {
     "name": "stdout",
     "output_type": "stream",
     "text": [
      "Car model: Mustang\n",
      "Year: 1964\n",
      "Color: None\n",
      "Price: Price not available\n",
      "Has brand: True\n",
      "Has engine: False\n"
     ]
    }
   ],
   "source": [
    "# Creating a dictionary for a car\n",
    "car_info = {\n",
    "    \"brand\": \"Ford\",\n",
    "    \"model\": \"Mustang\",\n",
    "    \"year\": 1964\n",
    "}\n",
    "\n",
    "#Direct access \n",
    "car_model = car_info[\"model\"]\n",
    "print(f\"Car model: {car_model}\")\n",
    "\n",
    "#Safe access \n",
    "year = car_info.get(\"year\")\n",
    "color = car_info.get(\"color\") \n",
    "price = car_info.get(\"price\", \"Price not available\")  \n",
    "\n",
    "print(f\"Year: {year}\")\n",
    "print(f\"Color: {color}\")\n",
    "print(f\"Price: {price}\")\n",
    "\n",
    "# Check if key exists\n",
    "has_brand = \"brand\" in car_info\n",
    "has_engine = \"engine\" in car_info\n",
    "\n",
    "print(f\"Has brand: {has_brand}\")\n",
    "print(f\"Has engine: {has_engine}\")\n"
   ]
  },
  {
   "cell_type": "code",
   "execution_count": 9,
   "id": "09aa1ae6",
   "metadata": {},
   "outputs": [
    {
     "name": "stdout",
     "output_type": "stream",
     "text": [
      "After adding elements: {'brand': 'Ford', 'model': 'Mustang', 'year': 1964, 'color': 'White', 'price': 55000}\n",
      "After updates: {'brand': 'Ford', 'model': 'Mustang GT', 'year': 2020, 'color': 'White', 'price': 40000}\n",
      "After removing elements: {'brand': 'Ford', 'model': 'Mustang GT'}\n",
      "Removed price: 40000\n",
      "Last removed item: ('year', 2020)\n"
     ]
    }
   ],
   "source": [
    "# Creating a dictionary for a car\n",
    "car_info = {\n",
    "    \"brand\": \"Ford\",\n",
    "    \"model\": \"Mustang\",\n",
    "    \"year\": 1964\n",
    "}\n",
    "\n",
    "# Adding new key-value pairs\n",
    "car_info[\"color\"] = \"White\"\n",
    "car_info[\"price\"] = 55000\n",
    "\n",
    "print(\"After adding elements:\", car_info)\n",
    "\n",
    "# Updating existing values\n",
    "car_info[\"year\"] = 2020\n",
    "car_info.update({\"price\": 40000, \"model\": \"Mustang GT\"}) \n",
    "\n",
    "print(f\"After updates: {car_info}\")\n",
    "\n",
    "# Using del keyword\n",
    "del car_info[\"color\"]\n",
    "\n",
    "# Using pop keyword\n",
    "removed_price = car_info.pop(\"price\", 0)\n",
    "\n",
    "# Using popitem \n",
    "last_item = car_info.popitem()\n",
    "\n",
    "print(\"After removing elements:\", car_info)\n",
    "print(\"Removed price:\", removed_price)\n",
    "print(\"Last removed item:\", last_item)\n"
   ]
  },
  {
   "cell_type": "code",
   "execution_count": 10,
   "id": "4bd5e875",
   "metadata": {},
   "outputs": [
    {
     "name": "stdout",
     "output_type": "stream",
     "text": [
      "Car info: {'brand': 'Ford', 'model': 'Mustang', 'year': 1964}\n",
      "\n",
      "Keys: ['brand', 'model', 'year']\n",
      "Values: ['Ford', 'Mustang', 1964]\n",
      "Items: [('brand', 'Ford'), ('model', 'Mustang'), ('year', 1964)]\n",
      "\n",
      "Iterating through keys:\n",
      "brand: Ford\n",
      "model: Mustang\n",
      "year: 1964\n",
      "\n",
      "Iterating through key-value pairs:\n",
      "brand: Ford\n",
      "model: Mustang\n",
      "year: 1964\n",
      "\n",
      "Iterating through values only:\n",
      "Ford\n",
      "Mustang\n",
      "1964\n",
      "\n",
      "Total attributes in car_info: 3\n"
     ]
    }
   ],
   "source": [
    "# Creating a dictionary for a car\n",
    "car_info = {\n",
    "    \"brand\": \"Ford\",\n",
    "    \"model\": \"Mustang\",\n",
    "    \"year\": 1964\n",
    "}\n",
    "\n",
    "print(f\"Car info: {car_info}\")\n",
    "print()\n",
    "\n",
    "# Get all keys, values, and items\n",
    "keys = list(car_info.keys())\n",
    "values = list(car_info.values())\n",
    "items = list(car_info.items())\n",
    "\n",
    "print(f\"Keys: {keys}\")\n",
    "print(f\"Values: {values}\")\n",
    "print(f\"Items: {items}\")\n",
    "print()\n",
    "\n",
    "# Iterating through dictionaries\n",
    "print(\"Iterating through keys:\")\n",
    "for key in car_info:\n",
    "    print(f\"{key}: {car_info[key]}\")\n",
    "\n",
    "print(\"\\nIterating through key-value pairs:\")\n",
    "for key, value in car_info.items():\n",
    "    print(f\"{key}: {value}\")\n",
    "\n",
    "print(\"\\nIterating through values only:\")\n",
    "for value in car_info.values():\n",
    "    print(value)\n",
    "\n",
    "# Dictionary statistics\n",
    "total_attributes = len(car_info)\n",
    "\n",
    "print(f\"\\nTotal attributes in car_info: {total_attributes}\")\n"
   ]
  },
  {
   "cell_type": "code",
   "execution_count": 12,
   "id": "d00c3847",
   "metadata": {},
   "outputs": [
    {
     "name": "stdout",
     "output_type": "stream",
     "text": [
      "Employee base info: {'name': 'Sona', 'department': 'IT', 'salary': 50000}\n",
      "Personal info: {'age': 28, 'email': 'sona@gmail.com', 'phone': '+91-9876543210'}\n",
      "Job info: {'position': 'Software Engineer', 'joining_date': '2022-05-15', 'is_permanent': True}\n",
      "\n",
      "Complete profile (using update): {'name': 'Sona', 'department': 'IT', 'salary': 50000, 'age': 28, 'email': 'sona@gmail.com', 'phone': '+91-9876543210', 'position': 'Software Engineer', 'joining_date': '2022-05-15', 'is_permanent': True}\n",
      "\n",
      "Complete profile (using unpacking): {'name': 'Sona', 'department': 'IT', 'salary': 50000, 'age': 28, 'email': 'sona@gmail.com', 'phone': '+91-9876543210', 'position': 'Software Engineer', 'joining_date': '2022-05-15', 'is_permanent': True}\n",
      "\n",
      "Complete profile (using union): {'name': 'Sona', 'department': 'IT', 'salary': 50000, 'age': 28, 'email': 'sona@gmail.com', 'phone': '+91-9876543210', 'position': 'Software Engineer', 'joining_date': '2022-05-15', 'is_permanent': True}\n",
      "Final settings: {'work_hours': 8, 'remote': True, 'leave_balance': 25}\n"
     ]
    }
   ],
   "source": [
    "# Creating mixed value type dictionaries\n",
    "employee = {\n",
    "    \"name\": \"Sona\",\n",
    "    \"department\": \"IT\",\n",
    "    \"salary\": 50000\n",
    "}\n",
    "\n",
    "# Additional personal details\n",
    "personal_info = {\n",
    "    \"age\": 28,\n",
    "    \"email\": \"sona@gmail.com\",\n",
    "    \"phone\": \"+91-9876543210\"\n",
    "}\n",
    "\n",
    "# Job-related information\n",
    "job_info = {\n",
    "    \"position\": \"Software Engineer\",\n",
    "    \"joining_date\": \"2022-05-15\",\n",
    "    \"is_permanent\": True\n",
    "}\n",
    "\n",
    "print(f\"Employee base info: {employee}\")\n",
    "print(f\"Personal info: {personal_info}\")\n",
    "print(f\"Job info: {job_info}\")\n",
    "print()\n",
    "\n",
    "# Method 1: Using update() method\n",
    "complete_profile_v1 = employee.copy()\n",
    "complete_profile_v1.update(personal_info)\n",
    "complete_profile_v1.update(job_info)\n",
    "\n",
    "print(f\"Complete profile (using update): {complete_profile_v1}\")\n",
    "print()\n",
    "\n",
    "# Method 2: Using dictionary unpacking \n",
    "complete_profile_v2 = {**employee, **personal_info, **job_info}\n",
    "print(f\"Complete profile (using unpacking): {complete_profile_v2}\")\n",
    "print()\n",
    "\n",
    "#Method 3: Using union operator \n",
    "complete_profile_v3 = employee | personal_info | job_info\n",
    "print(f\"Complete profile (using union): {complete_profile_v3}\")\n",
    "\n",
    "# Selective merging - defaults vs user overrides\n",
    "defaults = {\n",
    "    \"work_hours\": 8,\n",
    "    \"remote\": False,\n",
    "    \"leave_balance\": 20\n",
    "}\n",
    "\n",
    "custom_prefs = {\n",
    "    \"remote\": True,   # overrides default\n",
    "    \"leave_balance\": 25\n",
    "}\n",
    "\n",
    "# Merge with defaults, applying employee preferences\n",
    "final_settings = {**defaults, **custom_prefs}\n",
    "print(f\"Final settings: {final_settings}\")\n"
   ]
  },
  {
   "cell_type": "code",
   "execution_count": 13,
   "id": "0737c082",
   "metadata": {},
   "outputs": [
    {
     "name": "stdout",
     "output_type": "stream",
     "text": [
      "Library: City Central Library\n",
      "Fiction Section Head: Emma Watson\n",
      "March Visitors: 1700\n",
      "\n",
      "History Section Budget (safe access): $0\n",
      "Non-Fiction Books: 900\n",
      "\n",
      "Total books in library: 2700\n",
      "Total section budgets: $110,000\n",
      "\n",
      "Section Summary:\n",
      "Fiction: 1200 books, $50,000 budget\n",
      "Non_Fiction: 900 books, $40,000 budget\n",
      "Children: 600 books, $20,000 budget\n"
     ]
    }
   ],
   "source": [
    "# Complex nested data structure for a library\n",
    "library_data = {\n",
    "    \"library_info\": {\n",
    "        \"name\": \"City Central Library\",\n",
    "        \"established\": 1950,\n",
    "        \"location\": \"New York, NY\"\n",
    "    },\n",
    "    \"sections\": {\n",
    "        \"fiction\": {\n",
    "            \"head_librarian\": \"Emma Watson\",\n",
    "            \"books\": 1200,\n",
    "            \"budget\": 50000\n",
    "        },\n",
    "        \"non_fiction\": {\n",
    "            \"head_librarian\": \"John Doe\",\n",
    "            \"books\": 900,\n",
    "            \"budget\": 40000\n",
    "        },\n",
    "        \"children\": {\n",
    "            \"head_librarian\": \"Sophia Lee\",\n",
    "            \"books\": 600,\n",
    "            \"budget\": 20000\n",
    "        }\n",
    "    },\n",
    "    \"monthly_visitors\": {\n",
    "        \"January\": 1500,\n",
    "        \"February\": 1200,\n",
    "        \"March\": 1700,\n",
    "        \"April\": 1600\n",
    "    }\n",
    "}\n",
    "\n",
    "# Accessing nested data\n",
    "library_name = library_data[\"library_info\"][\"name\"]\n",
    "fiction_head = library_data[\"sections\"][\"fiction\"][\"head_librarian\"]\n",
    "march_visitors = library_data[\"monthly_visitors\"][\"March\"]\n",
    "\n",
    "print(f\"Library: {library_name}\")\n",
    "print(f\"Fiction Section Head: {fiction_head}\")\n",
    "print(f\"March Visitors: {march_visitors}\")\n",
    "print()\n",
    "\n",
    "# Safe access to nested data\n",
    "def safe_get_nested(data, keys, default=None):\n",
    "    current = data\n",
    "    for key in keys:\n",
    "        if isinstance(current, dict) and key in current:\n",
    "            current = current[key]\n",
    "        else:\n",
    "            return default\n",
    "    return current\n",
    "\n",
    "# Test safe access\n",
    "history_budget = safe_get_nested(library_data, [\"sections\", \"history\", \"budget\"], 0)\n",
    "non_fiction_books = safe_get_nested(library_data, [\"sections\", \"non_fiction\", \"books\"])\n",
    "\n",
    "print(f\"History Section Budget (safe access): ${history_budget:,}\")\n",
    "print(f\"Non-Fiction Books: {non_fiction_books}\")\n",
    "\n",
    "# Calculate section statistics\n",
    "sections = library_data[\"sections\"]\n",
    "total_books = sum(sec[\"books\"] for sec in sections.values())\n",
    "total_budget = sum(sec[\"budget\"] for sec in sections.values())\n",
    "\n",
    "print(f\"\\nTotal books in library: {total_books}\")\n",
    "print(f\"Total section budgets: ${total_budget:,}\")\n",
    "\n",
    "# Section summary\n",
    "print(\"\\nSection Summary:\")\n",
    "for sec_name, sec_info in sections.items():\n",
    "    print(f\"{sec_name.title()}: {sec_info['books']} books, ${sec_info['budget']:,} budget\")\n"
   ]
  },
  {
   "cell_type": "code",
   "execution_count": 14,
   "id": "5a8c2b29",
   "metadata": {},
   "outputs": [
    {
     "name": "stdout",
     "output_type": "stream",
     "text": [
      "Merged customer: {'customer_id': 'CUST001', 'name': 'John Doe', 'email': 'john@new-email.com', 'phone': '+1-555-0123', 'address': '123 Main St'}\n"
     ]
    }
   ],
   "source": [
    "# Exercise 1: Create a function to merge customer data\n",
    "def merge_customer_data(basic_data, additional_data):\n",
    "    merged_data = basic_data.copy()\n",
    "    merged_data.update(additional_data)\n",
    "    return merged_data\n",
    "\n",
    "basic_customer = {\n",
    "    \"customer_id\": \"CUST001\",\n",
    "    \"name\": \"John Doe\",\n",
    "    \"email\": \"john@old-email.com\"\n",
    "}\n",
    "\n",
    "additional_customer = {\n",
    "    \"email\": \"john@new-email.com\",\n",
    "    \"phone\": \"+1-555-0123\",\n",
    "    \"address\": \"123 Main St\"\n",
    "}\n",
    "\n",
    "merged = merge_customer_data(basic_customer, additional_customer)\n",
    "print(f\"Merged customer: {merged}\")\n"
   ]
  },
  {
   "cell_type": "code",
   "execution_count": 15,
   "id": "c4bbb671",
   "metadata": {},
   "outputs": [
    {
     "name": "stdout",
     "output_type": "stream",
     "text": [
      "Category counts: {'Electronics': 3, 'Furniture': 2}\n",
      "Region counts: {'North': 3, 'South': 2}\n"
     ]
    }
   ],
   "source": [
    "# Exercise 2: Count occurrences in a list of dictionaries\n",
    "def count_by_field(records, field_name):\n",
    "    counts = {}  \n",
    "    for record in records:\n",
    "        value = record.get(field_name)\n",
    "        if value is not None:\n",
    "            counts[value] = counts.get(value, 0) + 1\n",
    "    return counts\n",
    "\n",
    "sales_records = [\n",
    "    {\"product\": \"Laptop\", \"category\": \"Electronics\", \"region\": \"North\"},\n",
    "    {\"product\": \"Mouse\", \"category\": \"Electronics\", \"region\": \"South\"},\n",
    "    {\"product\": \"Desk\", \"category\": \"Furniture\", \"region\": \"North\"},\n",
    "    {\"product\": \"Chair\", \"category\": \"Furniture\", \"region\": \"North\"},\n",
    "    {\"product\": \"Monitor\", \"category\": \"Electronics\", \"region\": \"South\"}\n",
    "]\n",
    "\n",
    "category_counts = count_by_field(sales_records, \"category\")\n",
    "print(f\"Category counts: {category_counts}\")\n",
    "\n",
    "region_counts = count_by_field(sales_records, \"region\")\n",
    "print(f\"Region counts: {region_counts}\")\n"
   ]
  },
  {
   "cell_type": "code",
   "execution_count": 17,
   "id": "e2e45293",
   "metadata": {},
   "outputs": [
    {
     "name": "stdout",
     "output_type": "stream",
     "text": [
      "Flattened: {'user_name': 'Alice', 'user_age': 30, 'account_balance': 1500.5, 'account_type': 'checking'}\n"
     ]
    }
   ],
   "source": [
    " #Exercise 3: Transform nested data structure\n",
    "def flatten_nested_dict(nested_dict, parent_key=\"\", separator=\"_\"):\n",
    "    flat_dict = {}\n",
    "    \n",
    "    for key, value in nested_dict.items():\n",
    "        new_key = f\"{parent_key}{separator}{key}\" if parent_key else key\n",
    "        \n",
    "        if isinstance(value, dict):\n",
    "            flat_dict.update(flatten_nested_dict(value, new_key, separator))\n",
    "        else:\n",
    "            flat_dict[new_key] = value\n",
    "            \n",
    "    return flat_dict\n",
    "\n",
    "nested_data = {\n",
    "    \"user\": {\n",
    "        \"name\": \"Alice\",\n",
    "        \"age\": 30\n",
    "    },\n",
    "    \"account\": {\n",
    "        \"balance\": 1500.50,\n",
    "        \"type\": \"checking\"\n",
    "    }\n",
    "}\n",
    "\n",
    "flattened = flatten_nested_dict(nested_data)\n",
    "print(f\"Flattened: {flattened}\")\n"
   ]
  }
 ],
 "metadata": {
  "kernelspec": {
   "display_name": "Python 3",
   "language": "python",
   "name": "python3"
  },
  "language_info": {
   "codemirror_mode": {
    "name": "ipython",
    "version": 3
   },
   "file_extension": ".py",
   "mimetype": "text/x-python",
   "name": "python",
   "nbconvert_exporter": "python",
   "pygments_lexer": "ipython3",
   "version": "3.13.7"
  }
 },
 "nbformat": 4,
 "nbformat_minor": 5
}
