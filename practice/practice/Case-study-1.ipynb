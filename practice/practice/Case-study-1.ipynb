{
 "cells": [
  {
   "cell_type": "code",
   "execution_count": 7,
   "id": "eb9c6fc7",
   "metadata": {},
   "outputs": [
    {
     "name": "stdout",
     "output_type": "stream",
     "text": [
      "{'info': {'id': 'E001', 'name': 'Alice Johnson', 'department': 'Engineering', 'salary': 77000}, 'projects': ['AI Development'], 'work_history': ['Salary increased from 75000 to 77000', 'Assigned to project: AI Development']}\n",
      "{'info': {'id': 'E002', 'name': 'Bob Smith', 'department': 'Marketing', 'salary': 70000}, 'projects': ['Marketing Campaign'], 'work_history': ['Salary increased from 65000 to 70000', 'Assigned to project: Marketing Campaign']}\n",
      "{'info': {'id': 'E003', 'name': 'Charlie Brown', 'department': 'Engineering', 'salary': 80000}, 'projects': ['Data Analytics Platform'], 'work_history': ['Assigned to project: Data Analytics Platform']}\n"
     ]
    }
   ],
   "source": [
    "# Problem 1\n",
    "\n",
    "\n",
    "# SAMPLE DATA: employee_data = [ {\"id\": \"E001\", \"name\": \"Alice Johnson\", \"department\": \"Engineering\", \"salary\": 75000}, {\"id\": \"E002\", \"name\": \"Bob Smith\", \"department\": \"Marketing\", \"salary\": 65000}, {\"id\": \"E003\", \"name\": \"Charlie Brown\", \"department\": \"Engineering\", \"salary\": 80000} ]\n",
    "\n",
    "# department_data = [ {\"name\": \"Engineering\", \"budget\": 500000, \"employees\": [\"E001\", \"E003\"]}, {\"name\": \"Marketing\", \"budget\": 300000, \"employees\": [\"E002\"]}, {\"name\": \"HR\", \"budget\": 200000, \"employees\": []} ]\n",
    "\n",
    "class Employee:\n",
    "    def __init__(self, emp_id, name, department, salary):\n",
    "        self.info = {\n",
    "            \"id\": emp_id,\n",
    "            \"name\": name,\n",
    "            \"department\": department,\n",
    "            \"salary\": salary\n",
    "        }\n",
    "        self.projects = []\n",
    "        self.work_history = []\n",
    "\n",
    "    def give_raise(self, amount):\n",
    "        old_salary = self.info[\"salary\"]\n",
    "        self.info[\"salary\"] += amount\n",
    "        self.work_history.append(f\"Salary increased from {old_salary} to {self.info['salary']}\")\n",
    "\n",
    "    def assign_project(self, project_name):\n",
    "        self.projects.append(project_name)\n",
    "        self.work_history.append(f\"Assigned to project: {project_name}\")\n",
    "\n",
    "    def get_info(self):\n",
    "        return {\n",
    "            \"info\": self.info,\n",
    "            \"projects\": self.projects,\n",
    "            \"work_history\": self.work_history\n",
    "        }\n",
    "\n",
    "\n",
    "\n",
    "alice = Employee(\"E001\", \"Alice Johnson\", \"Engineering\", 75000)\n",
    "bob = Employee(\"E002\", \"Bob Smith\", \"Marketing\", 65000)\n",
    "charlie = Employee(\"E003\", \"Charlie Brown\", \"Engineering\", 80000)\n",
    "\n",
    "\n",
    "alice.give_raise(2000)\n",
    "bob.give_raise(5000)\n",
    "\n",
    "\n",
    "alice.assign_project(\"AI Development\")\n",
    "bob.assign_project(\"Marketing Campaign\")\n",
    "charlie.assign_project(\"Data Analytics Platform\")\n",
    "\n",
    "print(alice.get_info())\n",
    "print(bob.get_info())\n",
    "print(charlie.get_info())"
   ]
  },
  {
   "cell_type": "code",
   "execution_count": 25,
   "id": "9dfec816",
   "metadata": {},
   "outputs": [
    {
     "name": "stdout",
     "output_type": "stream",
     "text": [
      "Department Information: {'name': 'Engineering', 'budget': 500000}\n",
      "Employees after adding: ['E001', 'E003']\n",
      "Employees after removing E003: ['E001']\n",
      "Number of employees: 1\n",
      "Complete Department Info: {'name': 'Engineering', 'budget': 500000, 'employees': ['E001']}\n"
     ]
    }
   ],
   "source": [
    "class Department:\n",
    "    def __init__(self, name, budget):\n",
    "        self.info = {\n",
    "            \"name\": name,\n",
    "            \"budget\": budget\n",
    "        }\n",
    "        self.employees = []\n",
    "\n",
    "    def add_employee(self, emp_id):\n",
    "        if emp_id not in self.employees:\n",
    "            self.employees.append(emp_id)\n",
    "\n",
    "    def remove_employee(self, emp_id):\n",
    "        if emp_id in self.employees:\n",
    "            self.employees.remove(emp_id)\n",
    "\n",
    "    def get_employee_count(self):\n",
    "        return len(self.employees)\n",
    "\n",
    "    def get_info(self):\n",
    "        return {\n",
    "            **self.info,\n",
    "            \"employees\": self.employees\n",
    "        }\n",
    "\n",
    "\n",
    "engineering = Department(\"Engineering\", 500000)\n",
    "\n",
    "print(\"Department Information:\", engineering.info)\n",
    "\n",
    "engineering.add_employee(\"E001\")\n",
    "engineering.add_employee(\"E003\")\n",
    "print(\"Employees after adding:\", engineering.employees)\n",
    "\n",
    "engineering.remove_employee(\"E003\")\n",
    "print(\"Employees after removing E003:\", engineering.employees)\n",
    "\n",
    "count = engineering.get_employee_count()\n",
    "print(\"Number of employees:\", count)\n",
    "\n",
    "dept_info = engineering.get_info()\n",
    "print(\"Complete Department Info:\", dept_info)\n",
    "\n"
   ]
  },
  {
   "cell_type": "code",
   "execution_count": null,
   "id": "77669bc2",
   "metadata": {},
   "outputs": [],
   "source": []
  }
 ],
 "metadata": {
  "kernelspec": {
   "display_name": "Python 3",
   "language": "python",
   "name": "python3"
  },
  "language_info": {
   "codemirror_mode": {
    "name": "ipython",
    "version": 3
   },
   "file_extension": ".py",
   "mimetype": "text/x-python",
   "name": "python",
   "nbconvert_exporter": "python",
   "pygments_lexer": "ipython3",
   "version": "3.13.7"
  }
 },
 "nbformat": 4,
 "nbformat_minor": 5
}
