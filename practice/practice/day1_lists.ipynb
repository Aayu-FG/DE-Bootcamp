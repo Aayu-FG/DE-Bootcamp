{
 "cells": [
  {
   "cell_type": "code",
   "execution_count": 1,
   "id": "a12dc61e",
   "metadata": {},
   "outputs": [
    {
     "name": "stdout",
     "output_type": "stream",
     "text": [
      "['apple', 'cherry', 'mango', 'kiwi']\n"
     ]
    }
   ],
   "source": [
    "fruits = [\"apple\", \"cherry\", \"mango\", \"kiwi\"]\n",
    "print(fruits)\n",
    "#creating a list"
   ]
  },
  {
   "cell_type": "code",
   "execution_count": 2,
   "id": "1a476176",
   "metadata": {},
   "outputs": [
    {
     "name": "stdout",
     "output_type": "stream",
     "text": [
      "[81, 92, 88, 75]\n",
      "['Aayushi', 22, True, 5.6]\n"
     ]
    }
   ],
   "source": [
    "# creating a list of integers\n",
    "marks = [81, 92, 88, 75]\n",
    "\n",
    "# creating a mixed list\n",
    "person_info = [\"Aayushi\", 22, True, 5.6]  # Name, age, active status, height\n",
    "\n",
    "print(marks)\n",
    "print(person_info)"
   ]
  },
  {
   "cell_type": "code",
   "execution_count": 5,
   "id": "683f545a",
   "metadata": {},
   "outputs": [
    {
     "name": "stdout",
     "output_type": "stream",
     "text": [
      "Length of marks list: 4\n",
      "Length of fruits list: 4\n"
     ]
    }
   ],
   "source": [
    "# length of lists\n",
    "print(f\"Length of marks list: {len(marks)}\")  \n",
    "print(f\"Length of fruits list: {len(fruits)}\")      \n"
   ]
  },
  {
   "cell_type": "code",
   "execution_count": 6,
   "id": "a33398b1",
   "metadata": {},
   "outputs": [
    {
     "name": "stdout",
     "output_type": "stream",
     "text": [
      "Original data: ['a', 'b', 'c', 'd', 'e', 'f', 'g', 'h']\n",
      "\n",
      "First four elements: ['a', 'b', 'c', 'd']\n",
      "Last two elements: ['g', 'h']\n",
      "Middle elements (index 2-5): ['c', 'd', 'e']\n",
      "Every second element: ['a', 'c', 'e', 'g']\n",
      "Every third from index 1: ['b', 'e', 'h']\n",
      "Reversed list: ['h', 'g', 'f', 'e', 'd', 'c', 'b', 'a']\n"
     ]
    }
   ],
   "source": [
    "# Sample data for slicing demonstrations\n",
    "data= [\"a\", \"b\", \"c\", \"d\", \"e\", \"f\", \"g\", \"h\"]\n",
    "\n",
    "print(f\"Original data: {data}\")\n",
    "print()\n",
    "\n",
    "# Basic slicing: [start:end]\n",
    "first_four = data[:4]\n",
    "print(f\"First four elements: {first_four}\")\n",
    "\n",
    "last_two = data[-2:]\n",
    "print(f\"Last two elements: {last_two}\")\n",
    "\n",
    "middle_elements = data[2:5]\n",
    "print(f\"Middle elements (index 2-5): {middle_elements}\")\n",
    "\n",
    "# Step slicing: [start:end:step]\n",
    "every_second = data[::2]\n",
    "print(f\"Every second element: {every_second}\")\n",
    "\n",
    "every_third_from_index_1 = data[1::3]\n",
    "print(f\"Every third from index 1: {every_third_from_index_1}\")\n",
    "\n",
    "# Reverse slicing\n",
    "reversed_list = data[::-1]\n",
    "print(f\"Reversed list: {reversed_list}\")"
   ]
  },
  {
   "cell_type": "code",
   "execution_count": 9,
   "id": "39a79922",
   "metadata": {},
   "outputs": [
    {
     "name": "stdout",
     "output_type": "stream",
     "text": [
      "Original ages: [14, 34, 27, 55, 38, 76, 25, 30]\n",
      "Original cities: ['Mumbai', 'Delhi', 'Bangalore', 'Chennai', 'Kolkata', 'Hyderabad']\n",
      "\n",
      "Sorted ascending: [14, 25, 27, 30, 34, 38, 55, 76]\n",
      "Sorted descending: [76, 55, 38, 34, 30, 27, 25, 14]\n",
      "Original unchanged: [14, 34, 27, 55, 38, 76, 25, 30]\n",
      "\n",
      "After sort() method: [14, 25, 27, 30, 34, 38, 55, 76]\n",
      "Sorted cities: ['Bangalore', 'Chennai', 'Delhi', 'Hyderabad', 'Kolkata', 'Mumbai']\n",
      "Sorted by length: ['Delhi', 'Mumbai', 'Chennai', 'Kolkata', 'Bangalore', 'Hyderabad']\n"
     ]
    }
   ],
   "source": [
    "# Sample unsorted data\n",
    "unsorted_ages = [14, 34, 27, 55, 38, 76, 25, 30]\n",
    "unsorted_cities = [\"Mumbai\", \"Delhi\", \"Bangalore\", \"Chennai\", \"Kolkata\", \"Hyderabad\"]\n",
    "\n",
    "\n",
    "print(f\"Original ages: {unsorted_ages}\")\n",
    "print(f\"Original cities: {unsorted_cities}\")\n",
    "print()\n",
    "\n",
    "# Using sorted() function (creates new list)\n",
    "sorted_ascending = sorted(unsorted_ages)\n",
    "sorted_descending = sorted(unsorted_ages, reverse=True)\n",
    "\n",
    "print(f\"Sorted ascending: {sorted_ascending}\")\n",
    "print(f\"Sorted descending: {sorted_descending}\")\n",
    "print(f\"Original unchanged: {unsorted_ages}\")\n",
    "print()\n",
    "\n",
    "# Using list.sort() method (modifies original list)\n",
    "ages_copy = unsorted_ages.copy()\n",
    "ages_copy.sort()\n",
    "print(f\"After sort() method: {ages_copy}\")\n",
    "\n",
    "# Sorting strings\n",
    "sorted_cities = sorted(unsorted_cities)\n",
    "print(f\"Sorted cities: {sorted_cities}\")\n",
    "\n",
    "# Sorting by length\n",
    "sorted_by_length = sorted(unsorted_cities, key=len)\n",
    "print(f\"Sorted by length: {sorted_by_length}\")"
   ]
  },
  {
   "cell_type": "code",
   "execution_count": 13,
   "id": "cf785173",
   "metadata": {},
   "outputs": [
    {
     "name": "stdout",
     "output_type": "stream",
     "text": [
      "After append operations: [10, 'Hello']\n",
      "After insert and extend: [10, 'Computer', 'Hello', 4.12, False]\n",
      "Popped last element: False\n",
      "List after pop(): [10, 'Computer', 'Hello', 4.12]\n",
      "Popped element at index 1: Computer\n",
      "List after pop(1): [10, 'Hello', 4.12]\n",
      "After remove(10): ['Hello', 4.12, 10]\n",
      "10\n",
      "100\n",
      "10\n",
      "550\n",
      "True\n",
      "\n",
      "Search list: ['a', 'b', 'c', 'b', 'd', 'b', 'e']\n",
      "Index of first 'b': 1\n",
      "Count of 'b': 3\n",
      "Is 'c' in list? True\n"
     ]
    }
   ],
   "source": [
    "# empty list\n",
    "mixed_list = []\n",
    "\n",
    "# using append() \n",
    "mixed_list.append(10)\n",
    "mixed_list.append(\"Hello\")\n",
    "print(f\"After append operations: {mixed_list}\")\n",
    "\n",
    "# using insert and extend\n",
    "mixed_list.insert(1, \"Computer\")\n",
    "mixed_list.extend([4.12, False]) \n",
    "print(f\"After insert and extend: {mixed_list}\")\n",
    "\n",
    "# using pop()\n",
    "last_element = mixed_list.pop()  \n",
    "print(f\"Popped last element: {last_element}\")\n",
    "print(f\"List after pop(): {mixed_list}\")\n",
    "\n",
    "element_at_index = mixed_list.pop(1)  \n",
    "print(f\"Popped element at index 1: {element_at_index}\")\n",
    "print(f\"List after pop(1): {mixed_list}\")\n",
    "\n",
    "# Other removal methods\n",
    "mixed_list.append(10)  \n",
    "mixed_list.remove(10)  \n",
    "print(f\"After remove(10): {mixed_list}\")\n",
    "\n",
    "\n",
    "#other operations\n",
    "nums= [10, 20, 30, 40, 50, 60, 70, 80, 90, 100]\n",
    "print(len(nums))\n",
    "print(max(nums))\n",
    "print(min(nums))\n",
    "print(sum(nums))\n",
    "print( 50 in nums)\n",
    "\n",
    "search_list = [\"a\", \"b\", \"c\", \"b\", \"d\", \"b\", \"e\"]\n",
    "print(f\"\\nSearch list: {search_list}\")\n",
    "print(f\"Index of first 'b': {search_list.index('b')}\")\n",
    "print(f\"Count of 'b': {search_list.count('b')}\")\n",
    "print(f\"Is 'c' in list? {'c' in search_list}\")\n"
   ]
  },
  {
   "cell_type": "code",
   "execution_count": 14,
   "id": "e6a419b9",
   "metadata": {},
   "outputs": [
    {
     "name": "stdout",
     "output_type": "stream",
     "text": [
      "Marks_Data:\n",
      "['Student', 'Math', 'Science', 'English']\n",
      "['Aayushi', 85, 90, 88]\n",
      "['Rahul', 78, 82, 80]\n",
      "['Anushka', 92, 95, 94]\n",
      "['Karan', 70, 75, 72]\n",
      "\n",
      "Student names: ['Aayushi', 'Rahul', 'Anushka', 'Karan']\n",
      "Math marks: [85, 78, 92, 70]\n",
      "Average Math score: 81.25\n",
      "Highest Science mark: 95\n",
      "Weekly Product Sales:\n",
      "['Product', 'Mon', 'Tue', 'Wed']\n",
      "['Soap', 20, 25, 22]\n",
      "['Shampoo', 15, 18, 20]\n",
      "['Toothpaste', 10, 12, 15]\n",
      "\n",
      "Products: ['Soap', 'Shampoo', 'Toothpaste']\n",
      "Monday sales: [20, 15, 10]\n",
      "Wednesday sales: [22, 20, 15]\n",
      "Total Monday sales: 45\n",
      "Highest Wednesday sales: 22\n"
     ]
    }
   ],
   "source": [
    "# Creating a 2D array (matrix) for student marks\n",
    "marks = [\n",
    "    [\"Student\", \"Math\", \"Science\", \"English\"],  \n",
    "    [\"Aayushi\", 85, 90, 88],\n",
    "    [\"Rahul\", 78, 82, 80],\n",
    "    [\"Anushka\", 92, 95, 94],\n",
    "    [\"Karan\", 70, 75, 72]\n",
    "]\n",
    "\n",
    "print(\"Marks_Data:\")\n",
    "for row in marks:\n",
    "    print(row)\n",
    "\n",
    "# Extract specific data\n",
    "students = [row[0] for row in marks[1:]]      \n",
    "math_marks = [row[1] for row in marks[1:]]    \n",
    "science_marks = [row[2] for row in marks[1:]] \n",
    "\n",
    "print(f\"\\nStudent names: {students}\")\n",
    "print(f\"Math marks: {math_marks}\")\n",
    "print(f\"Average Math score: {sum(math_marks) / len(math_marks):.2f}\")\n",
    "print(f\"Highest Science mark: {max(science_marks)}\")\n",
    "\n",
    "\n",
    "\n",
    "# Creating a 2D array (matrix) for product sales\n",
    "sales = [\n",
    "    [\"Product\", \"Mon\", \"Tue\", \"Wed\"], \n",
    "    [\"Soap\", 20, 25, 22],\n",
    "    [\"Shampoo\", 15, 18, 20],\n",
    "    [\"Toothpaste\", 10, 12, 15]\n",
    "]\n",
    "\n",
    "print(\"Weekly Product Sales:\")\n",
    "for row in sales:\n",
    "    print(row)\n",
    "\n",
    "# Extract specific data\n",
    "products = [row[0] for row in sales[1:]]      \n",
    "mon_sales = [row[1] for row in sales[1:]]   \n",
    "wed_sales = [row[3] for row in sales[1:]]    \n",
    "\n",
    "print(f\"\\nProducts: {products}\")\n",
    "print(f\"Monday sales: {mon_sales}\")\n",
    "print(f\"Wednesday sales: {wed_sales}\")\n",
    "print(f\"Total Monday sales: {sum(mon_sales)}\")\n",
    "print(f\"Highest Wednesday sales: {max(wed_sales)}\")\n",
    "\n",
    "\n"
   ]
  },
  {
   "cell_type": "code",
   "execution_count": 17,
   "id": "dd8faf02",
   "metadata": {},
   "outputs": [
    {
     "name": "stdout",
     "output_type": "stream",
     "text": [
      "Second largest: 64\n"
     ]
    }
   ],
   "source": [
    "# Exercise 1: Create a function to find the second largest number in a list\n",
    "\n",
    "def find_second_largest(numbers):\n",
    "    unique_numbers = list(set(numbers))\n",
    "    \n",
    "    if len(unique_numbers) < 2:\n",
    "        return None\n",
    "\n",
    "    unique_numbers.sort(reverse=True)\n",
    "    \n",
    "    return unique_numbers[1]\n",
    "\n",
    "# Testing the given function\n",
    "test_numbers = [64, 34, 25, 12, 22, 11, 90]\n",
    "result = find_second_largest(test_numbers)\n",
    "print(f\"Second largest: {result}\") \n"
   ]
  },
  {
   "cell_type": "code",
   "execution_count": 18,
   "id": "c5870fbc",
   "metadata": {},
   "outputs": [
    {
     "name": "stdout",
     "output_type": "stream",
     "text": [
      "Age column: ['Age', 25, 30, 35]\n"
     ]
    }
   ],
   "source": [
    "# Exercise 2: Extract a specific column from a 2D matrix\n",
    "\n",
    "def extract_column(matrix, column_index):\n",
    "    column = [] \n",
    "    for row in matrix:  \n",
    "        if column_index < len(row): \n",
    "            column.append(row[column_index])  \n",
    "    \n",
    "    return column\n",
    "\n",
    "# Testing the given matrix\n",
    "test_matrix = [\n",
    "    [\"Name\", \"Age\", \"City\"],\n",
    "    [\"Alice\", 25, \"New York\"],\n",
    "    [\"Bob\", 30, \"London\"],\n",
    "    [\"Charlie\", 35, \"Tokyo\"]\n",
    "]\n",
    "\n",
    "ages = extract_column(test_matrix, 1)\n",
    "print(f\"Age column: {ages}\")  "
   ]
  },
  {
   "cell_type": "code",
   "execution_count": 19,
   "id": "3dde0ca8",
   "metadata": {},
   "outputs": [
    {
     "name": "stdout",
     "output_type": "stream",
     "text": [
      "Top 3 performers: [['Charlie', 6200], ['David', 5000], ['Alice', 4600]]\n"
     ]
    }
   ],
   "source": [
    "# Exercise 3: Process sales data to find top performers\n",
    "\n",
    "def find_top_performers(sales_data, top_n=3):\n",
    "    totals = []\n",
    "    for sales in sales_data:\n",
    "        name = sales[0]\n",
    "        total = sum(sales[1:])\n",
    "        totals.append([name, total])\n",
    "    \n",
    "    totals.sort(key=lambda x: x[1], reverse=True)\n",
    "    \n",
    "    return totals[:top_n]\n",
    "\n",
    "# Testing the given matrix\n",
    "quarterly_sales = [\n",
    "    [\"Alice\", 1000, 1200, 1100, 1300],\n",
    "    [\"Bob\", 800, 900, 950, 1000],\n",
    "    [\"Charlie\", 1500, 1600, 1400, 1700],\n",
    "    [\"David\", 1200, 1100, 1300, 1400],\n",
    "    [\"Eve\", 900, 1000, 1050, 1100]\n",
    "]\n",
    "\n",
    "top_performers = find_top_performers(quarterly_sales, 3)\n",
    "print(f\"Top 3 performers: {top_performers}\")\n"
   ]
  }
 ],
 "metadata": {
  "kernelspec": {
   "display_name": "Python 3",
   "language": "python",
   "name": "python3"
  },
  "language_info": {
   "codemirror_mode": {
    "name": "ipython",
    "version": 3
   },
   "file_extension": ".py",
   "mimetype": "text/x-python",
   "name": "python",
   "nbconvert_exporter": "python",
   "pygments_lexer": "ipython3",
   "version": "3.13.7"
  }
 },
 "nbformat": 4,
 "nbformat_minor": 5
}
