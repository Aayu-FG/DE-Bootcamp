{
 "cells": [
  {
   "cell_type": "code",
   "execution_count": 1,
   "id": "a12dc61e",
   "metadata": {},
   "outputs": [
    {
     "name": "stdout",
     "output_type": "stream",
     "text": [
      "['apple', 'cherry', 'mango', 'kiwi']\n"
     ]
    }
   ],
   "source": [
    "fruits = [\"apple\", \"cherry\", \"mango\", \"kiwi\"]\n",
    "print(fruits)\n",
    "#creating a list"
   ]
  },
  {
   "cell_type": "code",
   "execution_count": 2,
   "id": "1a476176",
   "metadata": {},
   "outputs": [
    {
     "name": "stdout",
     "output_type": "stream",
     "text": [
      "[81, 92, 88, 75]\n",
      "['Aayushi', 22, True, 5.6]\n"
     ]
    }
   ],
   "source": [
    "# creating a list of integers\n",
    "marks = [81, 92, 88, 75]\n",
    "\n",
    "# creating a mixed list\n",
    "person_info = [\"Aayushi\", 22, True, 5.6]  # Name, age, active status, height\n",
    "\n",
    "print(marks)\n",
    "print(person_info)"
   ]
  },
  {
   "cell_type": "code",
   "execution_count": 5,
   "id": "683f545a",
   "metadata": {},
   "outputs": [
    {
     "name": "stdout",
     "output_type": "stream",
     "text": [
      "Length of marks list: 4\n",
      "Length of fruits list: 4\n"
     ]
    }
   ],
   "source": [
    "# length of lists\n",
    "print(f\"Length of marks list: {len(marks)}\")  \n",
    "print(f\"Length of fruits list: {len(fruits)}\")      \n"
   ]
  },
  {
   "cell_type": "code",
   "execution_count": 6,
   "id": "a33398b1",
   "metadata": {},
   "outputs": [
    {
     "name": "stdout",
     "output_type": "stream",
     "text": [
      "Original data: ['a', 'b', 'c', 'd', 'e', 'f', 'g', 'h']\n",
      "\n",
      "First four elements: ['a', 'b', 'c', 'd']\n",
      "Last two elements: ['g', 'h']\n",
      "Middle elements (index 2-5): ['c', 'd', 'e']\n",
      "Every second element: ['a', 'c', 'e', 'g']\n",
      "Every third from index 1: ['b', 'e', 'h']\n",
      "Reversed list: ['h', 'g', 'f', 'e', 'd', 'c', 'b', 'a']\n"
     ]
    }
   ],
   "source": [
    "# Sample data for slicing demonstrations\n",
    "data= [\"a\", \"b\", \"c\", \"d\", \"e\", \"f\", \"g\", \"h\"]\n",
    "\n",
    "print(f\"Original data: {data}\")\n",
    "print()\n",
    "\n",
    "# Basic slicing: [start:end]\n",
    "first_four = data[:4]\n",
    "print(f\"First four elements: {first_four}\")\n",
    "\n",
    "last_two = data[-2:]\n",
    "print(f\"Last two elements: {last_two}\")\n",
    "\n",
    "middle_elements = data[2:5]\n",
    "print(f\"Middle elements (index 2-5): {middle_elements}\")\n",
    "\n",
    "# Step slicing: [start:end:step]\n",
    "every_second = data[::2]\n",
    "print(f\"Every second element: {every_second}\")\n",
    "\n",
    "every_third_from_index_1 = data[1::3]\n",
    "print(f\"Every third from index 1: {every_third_from_index_1}\")\n",
    "\n",
    "# Reverse slicing\n",
    "reversed_list = data[::-1]\n",
    "print(f\"Reversed list: {reversed_list}\")"
   ]
  },
  {
   "cell_type": "code",
   "execution_count": 9,
   "id": "39a79922",
   "metadata": {},
   "outputs": [
    {
     "name": "stdout",
     "output_type": "stream",
     "text": [
      "Original ages: [14, 34, 27, 55, 38, 76, 25, 30]\n",
      "Original cities: ['Mumbai', 'Delhi', 'Bangalore', 'Chennai', 'Kolkata', 'Hyderabad']\n",
      "\n",
      "Sorted ascending: [14, 25, 27, 30, 34, 38, 55, 76]\n",
      "Sorted descending: [76, 55, 38, 34, 30, 27, 25, 14]\n",
      "Original unchanged: [14, 34, 27, 55, 38, 76, 25, 30]\n",
      "\n",
      "After sort() method: [14, 25, 27, 30, 34, 38, 55, 76]\n",
      "Sorted cities: ['Bangalore', 'Chennai', 'Delhi', 'Hyderabad', 'Kolkata', 'Mumbai']\n",
      "Sorted by length: ['Delhi', 'Mumbai', 'Chennai', 'Kolkata', 'Bangalore', 'Hyderabad']\n"
     ]
    }
   ],
   "source": [
    "# Sample unsorted data\n",
    "unsorted_ages = [14, 34, 27, 55, 38, 76, 25, 30]\n",
    "unsorted_cities = [\"Mumbai\", \"Delhi\", \"Bangalore\", \"Chennai\", \"Kolkata\", \"Hyderabad\"]\n",
    "\n",
    "\n",
    "print(f\"Original ages: {unsorted_ages}\")\n",
    "print(f\"Original cities: {unsorted_cities}\")\n",
    "print()\n",
    "\n",
    "# Using sorted() function (creates new list)\n",
    "sorted_ascending = sorted(unsorted_ages)\n",
    "sorted_descending = sorted(unsorted_ages, reverse=True)\n",
    "\n",
    "print(f\"Sorted ascending: {sorted_ascending}\")\n",
    "print(f\"Sorted descending: {sorted_descending}\")\n",
    "print(f\"Original unchanged: {unsorted_ages}\")\n",
    "print()\n",
    "\n",
    "# Using list.sort() method (modifies original list)\n",
    "ages_copy = unsorted_ages.copy()\n",
    "ages_copy.sort()\n",
    "print(f\"After sort() method: {ages_copy}\")\n",
    "\n",
    "# Sorting strings\n",
    "sorted_cities = sorted(unsorted_cities)\n",
    "print(f\"Sorted cities: {sorted_cities}\")\n",
    "\n",
    "# Sorting by length\n",
    "sorted_by_length = sorted(unsorted_cities, key=len)\n",
    "print(f\"Sorted by length: {sorted_by_length}\")"
   ]
  },
  {
   "cell_type": "code",
   "execution_count": null,
   "id": "cf785173",
   "metadata": {},
   "outputs": [],
   "source": [
    "# empty list\n",
    "mixed_list = []\n",
    "\n",
    "# using append() \n",
    "mixed_list.append(10)\n",
    "mixed_list.append(\"Hello\")\n",
    "print(f\"After append operations: {mixed_list}\")\n",
    "\n",
    "# using insert and extend\n",
    "mixed_list.insert(1, \"Computer\")\n",
    "mixed_list.extend([4.12, False]) \n",
    "print(f\"After insert and extend: {mixed_list}\")\n",
    "\n",
    "# using pop()\n",
    "last_element = mixed_list.pop()  \n",
    "print(f\"Popped last element: {last_element}\")\n",
    "print(f\"List after pop(): {mixed_list}\")\n",
    "\n",
    "element_at_index = mixed_list.pop(1)  \n",
    "print(f\"Popped element at index 1: {element_at_index}\")\n",
    "print(f\"List after pop(1): {mixed_list}\")\n",
    "\n",
    "# Other removal methods\n",
    "mixed_list.append(30)  \n",
    "mixed_list.remove(30)  \n",
    "print(f\"After remove(30): {mixed_list}\")\n",
    "\n",
    "# Practical example: Stack operations using append() and pop()\n",
    "stack = []\n",
    "print(\"\\nStack operations (Last In, First Out):\")\n",
    "\n",
    "# Push operations \n",
    "stack.append(\"first\")\n",
    "stack.append(\"second\")\n",
    "stack.append(\"third\")\n",
    "print(f\"Stack after pushes: {stack}\")\n",
    "\n",
    "# Pop operations\n",
    "item = stack.pop()\n",
    "print(f\"Popped: {item}, Stack now: {stack}\")\n",
    "\n",
    "#other operations\n",
    "nums= [10, 20, 30, 40, 50, 60, 70, 80, 90, 100]\n",
    "\n",
    "# Finding elements\n",
    "search_list = [1, 2, 3, 2, 4, 2, 5]\n",
    "print(f\"\\nSearch list: {search_list}\")\n",
    "print(f\"Index of first '2': {search_list.index(2)}\")\n",
    "print(f\"Count of '2': {search_list.count(2)}\")\n",
    "print(f\"Is 3 in list? {3 in search_list}\")"
   ]
  }
 ],
 "metadata": {
  "kernelspec": {
   "display_name": "Python 3",
   "language": "python",
   "name": "python3"
  },
  "language_info": {
   "codemirror_mode": {
    "name": "ipython",
    "version": 3
   },
   "file_extension": ".py",
   "mimetype": "text/x-python",
   "name": "python",
   "nbconvert_exporter": "python",
   "pygments_lexer": "ipython3",
   "version": "3.13.7"
  }
 },
 "nbformat": 4,
 "nbformat_minor": 5
}
