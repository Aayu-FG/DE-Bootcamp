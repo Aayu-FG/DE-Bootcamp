{
 "cells": [
  {
   "cell_type": "code",
   "execution_count": 20,
   "id": "7cfd4fd2",
   "metadata": {},
   "outputs": [],
   "source": [
    "import json\n",
    "import os"
   ]
  },
  {
   "cell_type": "code",
   "execution_count": 21,
   "id": "b452c63f",
   "metadata": {},
   "outputs": [
    {
     "name": "stdout",
     "output_type": "stream",
     "text": [
      "Overwriting student_data.json\n"
     ]
    }
   ],
   "source": [
    "\n",
    "%%writefile student_data.json\n",
    "{\n",
    "  \"student_id\": \"STU001\",\n",
    "  \"name\": \"Aayushi Patil\",\n",
    "  \"email\": \"aayushi.patil@university.edu\",\n",
    "  \"age\": 22,\n",
    "  \"is_enrolled\": true,\n",
    "  \"courses\": [\"Mathematics\", \"Computer Science\", \"Statistics\"],\n",
    "  \"grades\": {\n",
    "    \"Mathematics\": \"A\",\n",
    "    \"Computer Science\": \"A+\",\n",
    "    \"Statistics\": \"B+\"\n",
    "  }\n",
    "}\n"
   ]
  },
  {
   "cell_type": "code",
   "execution_count": 22,
   "id": "fe278175",
   "metadata": {},
   "outputs": [
    {
     "name": "stdout",
     "output_type": "stream",
     "text": [
      "Loaded student data:\n",
      "Name: Aayushi Patil\n",
      "Email: aayushi.patil@university.edu\n",
      "Age: 22\n",
      "Enrolled: True\n",
      "Courses: ['Mathematics', 'Computer Science', 'Statistics']\n",
      "Grades in CS: A+\n"
     ]
    }
   ],
   "source": [
    "# Reading JSON from file - basic method\n",
    "with open('student_data.json', 'r') as file:\n",
    "    student_data = json.load(file)\n",
    "print(\"Loaded student data:\")\n",
    "print(f\"Name: {student_data['name']}\")\n",
    "print(f\"Email: {student_data['email']}\")\n",
    "print(f\"Age: {student_data['age']}\")\n",
    "print(f\"Enrolled: {student_data['is_enrolled']}\")\n",
    "print(f\"Courses: {student_data['courses']}\")\n",
    "print(f\"Grades in CS: {student_data['grades']['Computer Science']}\")"
   ]
  },
  {
   "cell_type": "code",
   "execution_count": 23,
   "id": "5ab8ab7b",
   "metadata": {},
   "outputs": [
    {
     "name": "stdout",
     "output_type": "stream",
     "text": [
      "\n",
      "Created new_student.json\n",
      "\n",
      "File contents:\n",
      "{\n",
      "  \"student_id\": \"STU002\",\n",
      "  \"name\": \"Alice Johnson\",\n",
      "  \"email\": \"alice.johnson@university.edu\",\n",
      "  \"age\": 23,\n",
      "  \"is_enrolled\": false,\n",
      "  \"courses\": [\n",
      "    \"Physics\",\n",
      "    \"Chemistry\"\n",
      "  ],\n",
      "  \"grades\": {\n",
      "    \"Physics\": \"B\",\n",
      "    \"Chemistry\": \"A\"\n",
      "  }\n",
      "}\n"
     ]
    }
   ],
   "source": [
    "# Writing JSON to file - basic method\n",
    "new_student = {\n",
    "    \"student_id\": \"STU002\",\n",
    "    \"name\": \"Alice Johnson\",\n",
    "    \"email\": \"alice.johnson@university.edu\",\n",
    "    \"age\": 23,\n",
    "    \"is_enrolled\": False,\n",
    "    \"courses\": [\"Physics\", \"Chemistry\"],\n",
    "    \"grades\": {\n",
    "        \"Physics\": \"B\",\n",
    "        \"Chemistry\": \"A\"\n",
    "    }\n",
    "}\n",
    "\n",
    "# Write new student data to file\n",
    "with open('new_student.json', 'w') as file:\n",
    "    json.dump(new_student, file, indent=2)\n",
    "print(\"\\nCreated new_student.json\")\n",
    "\n",
    "# Verify the file was created\n",
    "with open('new_student.json', 'r') as file:\n",
    "    content = file.read()\n",
    "    print(\"\\nFile contents:\")\n",
    "    print(content)\n"
   ]
  },
  {
   "cell_type": "code",
   "execution_count": 24,
   "id": "c33019b7",
   "metadata": {},
   "outputs": [
    {
     "name": "stdout",
     "output_type": "stream",
     "text": [
      "Car data as JSON string:\n",
      "{\n",
      "  \"car_id\": \"CAR001\",\n",
      "  \"make\": \"Toyota\",\n",
      "  \"model\": \"Corolla\",\n",
      "  \"year\": 2022,\n",
      "  \"price\": 20000,\n",
      "  \"is_available\": true,\n",
      "  \"features\": [\n",
      "    \"Air Conditioning\",\n",
      "    \"Bluetooth\",\n",
      "    \"Backup Camera\"\n",
      "  ]\n",
      "}\n",
      "\n",
      "Car Make: Toyota\n",
      "Model: Corolla\n",
      "Year: 2022\n",
      "Features: ['Air Conditioning', 'Bluetooth', 'Backup Camera']\n"
     ]
    }
   ],
   "source": [
    "# Converting Python objects to JSON strings\n",
    "car_data = {\n",
    "    \"car_id\": \"CAR001\",\n",
    "    \"make\": \"Toyota\",\n",
    "    \"model\": \"Corolla\",\n",
    "    \"year\": 2022,\n",
    "    \"price\": 20000,\n",
    "    \"is_available\": True,\n",
    "    \"features\": [\"Air Conditioning\", \"Bluetooth\", \"Backup Camera\"]\n",
    "}\n",
    "\n",
    "# Convert to JSON string\n",
    "json_string = json.dumps(car_data, indent=2)\n",
    "print(\"Car data as JSON string:\")\n",
    "print(json_string)\n",
    "\n",
    "# Convert JSON string back to Python object\n",
    "parsed_data = json.loads(json_string)\n",
    "print(f\"\\nCar Make: {parsed_data['make']}\")\n",
    "print(f\"Model: {parsed_data['model']}\")\n",
    "print(f\"Year: {parsed_data['year']}\")\n",
    "print(f\"Features: {parsed_data['features']}\")"
   ]
  },
  {
   "cell_type": "code",
   "execution_count": 25,
   "id": "a9cd31ed",
   "metadata": {},
   "outputs": [
    {
     "name": "stdout",
     "output_type": "stream",
     "text": [
      "Overwriting cars.json\n"
     ]
    }
   ],
   "source": [
    "%%writefile cars.json\n",
    "[\n",
    "  {\n",
    "    \"id\": \"C001\",\n",
    "    \"make\": \"Toyota\",\n",
    "    \"model\": \"Corolla\",\n",
    "    \"year\": 2022,\n",
    "    \"price\": 20000\n",
    "  },\n",
    "  {\n",
    "    \"id\": \"C002\",\n",
    "    \"make\": \"Honda\",\n",
    "    \"model\": \"Civic\",\n",
    "    \"year\": 2021,\n",
    "    \"price\": 21000\n",
    "  },\n",
    "  {\n",
    "    \"id\": \"C003\",\n",
    "    \"make\": \"Ford\",\n",
    "    \"model\": \"Mustang\",\n",
    "    \"year\": 2023,\n",
    "    \"price\": 35000\n",
    "  }\n",
    "]\n"
   ]
  },
  {
   "cell_type": "code",
   "execution_count": 26,
   "id": "ed17635b",
   "metadata": {},
   "outputs": [
    {
     "name": "stdout",
     "output_type": "stream",
     "text": [
      "Loaded 3 cars:\n",
      "\n",
      "Car: Toyota Corolla (ID: C001)\n",
      "  Year: 2022\n",
      "  Price: $20000.00\n",
      "\n",
      "Car: Honda Civic (ID: C002)\n",
      "  Year: 2021\n",
      "  Price: $21000.00\n",
      "\n",
      "Car: Ford Mustang (ID: C003)\n",
      "  Year: 2023\n",
      "  Price: $35000.00\n",
      "\n",
      "Total value of all cars: $76000.00\n"
     ]
    }
   ],
   "source": [
    "# Reading JSON array and processing data\n",
    "with open('cars.json', 'r') as file:\n",
    "    cars = json.load(file)\n",
    "print(f\"Loaded {len(cars)} cars:\\n\")\n",
    "\n",
    "total_value = 0\n",
    "for car in cars:\n",
    "    print(f\"Car: {car['make']} {car['model']} (ID: {car['id']})\")\n",
    "    print(f\"  Year: {car['year']}\")\n",
    "    print(f\"  Price: ${car['price']:.2f}\")\n",
    "    total_value += car['price']\n",
    "    print()\n",
    "print(f\"Total value of all cars: ${total_value:.2f}\")\n"
   ]
  },
  {
   "cell_type": "code",
   "execution_count": 30,
   "id": "5a713b35",
   "metadata": {},
   "outputs": [
    {
     "name": "stdout",
     "output_type": "stream",
     "text": [
      "Writing simple_invalid.json\n"
     ]
    }
   ],
   "source": [
    "\n",
    "%%writefile simple_invalid.json\n",
    "{\n",
    "    \"username\": \"john_doe\",\n",
    "    \"age\": 30,\n",
    "    \"email\": \"john@example.com\",\n",
    "    \"is_active\": true,\n",
    "    \"note: \"Missing closing quote here\"\n",
    "}"
   ]
  },
  {
   "cell_type": "code",
   "execution_count": 31,
   "id": "fedb28a5",
   "metadata": {},
   "outputs": [
    {
     "name": "stdout",
     "output_type": "stream",
     "text": [
      "Testing with valid JSON file:\n",
      "Error: File 'simple_valid.json' not found\n",
      "\n",
      "Testing with invalid JSON file:\n",
      "Error: Invalid JSON in 'simple_invalid.json' - Expecting ':' delimiter: line 6 column 13 (char 113)\n",
      "\n",
      "Testing with missing file:\n",
      "Error: File 'not_found.json' not found\n"
     ]
    }
   ],
   "source": [
    "# Function to safely read JSON\n",
    "def read_json_safely(filename):\n",
    "    try:\n",
    "        with open(filename, 'r') as file:\n",
    "            data = json.load(file)\n",
    "            return data\n",
    "    except FileNotFoundError:\n",
    "        print(f\"Error: File '{filename}' not found\")\n",
    "        return None\n",
    "    except json.JSONDecodeError as e:\n",
    "        print(f\"Error: Invalid JSON in '{filename}' - {e}\")\n",
    "        return None\n",
    "    except Exception as e:\n",
    "        print(f\"Unexpected error reading '{filename}': {e}\")\n",
    "        return None\n",
    "\n",
    "# Test with valid JSON file\n",
    "print(\"Testing with valid JSON file:\")\n",
    "valid_data = read_json_safely('simple_valid.json')  \n",
    "if valid_data:\n",
    "    print(f\"Loaded user: {valid_data['username']}\")\n",
    "    \n",
    "print(\"\\nTesting with invalid JSON file:\")\n",
    "invalid_data = read_json_safely('simple_invalid.json')\n",
    "\n",
    "print(\"\\nTesting with missing file:\")\n",
    "missing_data = read_json_safely('not_found.json')\n"
   ]
  },
  {
   "cell_type": "code",
   "execution_count": 32,
   "id": "a9034312",
   "metadata": {},
   "outputs": [
    {
     "name": "stdout",
     "output_type": "stream",
     "text": [
      "Enhanced cars with tax calculations:\n",
      "\n",
      "Toyota Corolla (Standard)\n",
      "  Base price: $20000.00\n",
      "  Tax: $1600.00\n",
      "  Final price: $21600.00\n",
      "\n",
      "Honda Civic (Standard)\n",
      "  Base price: $21000.00\n",
      "  Tax: $1680.00\n",
      "  Final price: $22680.00\n",
      "\n",
      "Ford Mustang (Premium)\n",
      "  Base price: $35000.00\n",
      "  Tax: $2800.00\n",
      "  Final price: $37800.00\n",
      "\n"
     ]
    }
   ],
   "source": [
    "# Load cars and add calculated fields\n",
    "with open('cars.json', 'r') as file:\n",
    "    cars = json.load(file)\n",
    "\n",
    "# Add tax and final price to each car\n",
    "tax_rate = 0.08  # 8% tax\n",
    "enhanced_cars = []\n",
    "\n",
    "for car in cars:\n",
    "    # Create a copy of the car\n",
    "    enhanced_car = car.copy()\n",
    "    \n",
    "    # Calculate tax and final price\n",
    "    price = car['price']\n",
    "    tax_amount = price * tax_rate\n",
    "    final_price = price + tax_amount\n",
    "    \n",
    "    # Add new fields\n",
    "    enhanced_car['tax_amount'] = round(tax_amount, 2)\n",
    "    enhanced_car['final_price'] = round(final_price, 2)\n",
    "    \n",
    "    # Add price category\n",
    "    if price >= 30000:\n",
    "        category = 'Premium'\n",
    "    elif price >= 20000:\n",
    "        category = 'Standard'\n",
    "    else:\n",
    "        category = 'Budget'\n",
    "    \n",
    "    enhanced_car['price_category'] = category\n",
    "    enhanced_cars.append(enhanced_car)\n",
    "\n",
    "# Save enhanced cars to a new JSON file\n",
    "with open('enhanced_cars.json', 'w') as file:\n",
    "    json.dump(enhanced_cars, file, indent=2)\n",
    "\n",
    "print(\"Enhanced cars with tax calculations:\\n\")\n",
    "for car in enhanced_cars:\n",
    "    print(f\"{car['make']} {car['model']} ({car['price_category']})\")\n",
    "    print(f\"  Base price: ${car['price']:.2f}\")\n",
    "    print(f\"  Tax: ${car['tax_amount']:.2f}\")\n",
    "    print(f\"  Final price: ${car['final_price']:.2f}\")\n",
    "    print()\n"
   ]
  }
 ],
 "metadata": {
  "kernelspec": {
   "display_name": "Python 3",
   "language": "python",
   "name": "python3"
  },
  "language_info": {
   "codemirror_mode": {
    "name": "ipython",
    "version": 3
   },
   "file_extension": ".py",
   "mimetype": "text/x-python",
   "name": "python",
   "nbconvert_exporter": "python",
   "pygments_lexer": "ipython3",
   "version": "3.13.7"
  }
 },
 "nbformat": 4,
 "nbformat_minor": 5
}
