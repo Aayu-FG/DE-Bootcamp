{
 "cells": [
  {
   "cell_type": "markdown",
   "metadata": {},
   "source": [
    "# Arrays/Lists: Slicing, Sorting, Array Manipulation, Multi-dimensional Arrays\n",
    "\n",
    "## Learning Objectives\n",
    "By the end of this notebook, you will be able to:\n",
    "- Create and manipulate Python lists\n",
    "- Use list slicing techniques effectively\n",
    "- Sort lists using various methods\n",
    "- Work with multi-dimensional arrays (nested lists)\n",
    "- Perform common array operations for data engineering tasks"
   ]
  },
  {
   "cell_type": "markdown",
   "metadata": {},
   "source": [
    "## 1. Creating and Basic List Operations"
   ]
  },
  {
   "cell_type": "code",
   "execution_count": null,
   "metadata": {},
   "outputs": [],
   "source": [
    "from typing import List, Any\n",
    "\n",
    "# Creating lists with type hints\n",
    "numbers: List[int] = [1, 2, 3, 4, 5]\n",
    "names: List[str] = [\"Alice\", \"Bob\", \"Charlie\"]\n",
    "mixed_data: List[Any] = [1, \"hello\", 3.14, True]\n",
    "\n",
    "print(f\"Numbers: {numbers}\")\n",
    "print(f\"Names: {names}\")\n",
    "print(f\"Mixed data: {mixed_data}\")\n",
    "\n",
    "# List length and basic operations\n",
    "print(f\"\\nLength of numbers: {len(numbers)}\")\n",
    "print(f\"First element: {numbers[0]}\")\n",
    "print(f\"Last element: {numbers[-1]}\")"
   ]
  },
  {
   "cell_type": "markdown",
   "metadata": {},
   "source": [
    "## 2. List Slicing Techniques"
   ]
  },
  {
   "cell_type": "code",
   "execution_count": null,
   "metadata": {},
   "outputs": [],
   "source": [
    "# Sample data for slicing demonstrations\n",
    "data_points: List[int] = [10, 20, 30, 40, 50, 60, 70, 80, 90, 100]\n",
    "\n",
    "print(f\"Original data: {data_points}\")\n",
    "print()\n",
    "\n",
    "# Basic slicing: [start:end]\n",
    "first_three: List[int] = data_points[:3]\n",
    "print(f\"First three elements: {first_three}\")\n",
    "\n",
    "last_three: List[int] = data_points[-3:]\n",
    "print(f\"Last three elements: {last_three}\")\n",
    "\n",
    "middle_elements: List[int] = data_points[2:7]\n",
    "print(f\"Middle elements (index 2-6): {middle_elements}\")\n",
    "\n",
    "# Step slicing: [start:end:step]\n",
    "every_second: List[int] = data_points[::2]\n",
    "print(f\"Every second element: {every_second}\")\n",
    "\n",
    "every_third_from_index_1: List[int] = data_points[1::3]\n",
    "print(f\"Every third from index 1: {every_third_from_index_1}\")\n",
    "\n",
    "# Reverse slicing\n",
    "reversed_list: List[int] = data_points[::-1]\n",
    "print(f\"Reversed list: {reversed_list}\")"
   ]
  },
  {
   "cell_type": "markdown",
   "metadata": {},
   "source": [
    "## 3. Sorting Operations"
   ]
  },
  {
   "cell_type": "code",
   "execution_count": null,
   "metadata": {},
   "outputs": [],
   "source": [
    "# Sample unsorted data\n",
    "unsorted_numbers: List[int] = [64, 34, 25, 12, 22, 11, 90]\n",
    "unsorted_names: List[str] = [\"Charlie\", \"Alice\", \"Bob\", \"David\"]\n",
    "\n",
    "print(f\"Original numbers: {unsorted_numbers}\")\n",
    "print(f\"Original names: {unsorted_names}\")\n",
    "print()\n",
    "\n",
    "# Using sorted() function (creates new list)\n",
    "sorted_ascending: List[int] = sorted(unsorted_numbers)\n",
    "sorted_descending: List[int] = sorted(unsorted_numbers, reverse=True)\n",
    "\n",
    "print(f\"Sorted ascending: {sorted_ascending}\")\n",
    "print(f\"Sorted descending: {sorted_descending}\")\n",
    "print(f\"Original unchanged: {unsorted_numbers}\")\n",
    "print()\n",
    "\n",
    "# Using list.sort() method (modifies original list)\n",
    "numbers_copy: List[int] = unsorted_numbers.copy()\n",
    "numbers_copy.sort()\n",
    "print(f\"After sort() method: {numbers_copy}\")\n",
    "\n",
    "# Sorting strings\n",
    "sorted_names: List[str] = sorted(unsorted_names)\n",
    "print(f\"Sorted names: {sorted_names}\")\n",
    "\n",
    "# Sorting by length\n",
    "sorted_by_length: List[str] = sorted(unsorted_names, key=len)\n",
    "print(f\"Sorted by length: {sorted_by_length}\")"
   ]
  },
  {
   "cell_type": "markdown",
   "metadata": {},
   "source": [
    "## 4. List Manipulation Operations"
   ]
  },
  {
   "cell_type": "code",
   "execution_count": null,
   "metadata": {},
   "outputs": [],
   "source": [
    "# Starting with an empty list\n",
    "dynamic_list: List[int] = []\n",
    "\n",
    "# Adding elements\n",
    "dynamic_list.append(10)  # Add single element\n",
    "dynamic_list.extend([20, 30, 40])  # Add multiple elements\n",
    "dynamic_list.insert(1, 15)  # Insert at specific position\n",
    "\n",
    "print(f\"After additions: {dynamic_list}\")\n",
    "\n",
    "# Removing elements\n",
    "dynamic_list.remove(30)  # Remove first occurrence of value\n",
    "popped_element: int = dynamic_list.pop()  # Remove and return last element\n",
    "popped_at_index: int = dynamic_list.pop(1)  # Remove and return element at index\n",
    "\n",
    "print(f\"After removals: {dynamic_list}\")\n",
    "print(f\"Popped element: {popped_element}\")\n",
    "print(f\"Popped at index 1: {popped_at_index}\")\n",
    "\n",
    "# Finding elements\n",
    "search_list: List[int] = [1, 2, 3, 2, 4, 2, 5]\n",
    "print(f\"\\nSearch list: {search_list}\")\n",
    "print(f\"Index of first '2': {search_list.index(2)}\")\n",
    "print(f\"Count of '2': {search_list.count(2)}\")\n",
    "print(f\"Is 3 in list? {3 in search_list}\")"
   ]
  },
  {
   "cell_type": "markdown",
   "metadata": {},
   "source": [
    "## 5. Multi-dimensional Arrays (Nested Lists)"
   ]
  },
  {
   "cell_type": "code",
   "execution_count": null,
   "metadata": {},
   "outputs": [],
   "source": [
    "from typing import List\n",
    "\n",
    "# Creating a 2D array (matrix)\n",
    "matrix: List[List[int]] = [\n",
    "    [1, 2, 3],\n",
    "    [4, 5, 6],\n",
    "    [7, 8, 9]\n",
    "]\n",
    "\n",
    "print(\"2D Matrix:\")\n",
    "for row in matrix:\n",
    "    print(row)\n",
    "\n",
    "# Accessing elements in 2D array\n",
    "print(f\"\\nElement at row 1, column 2: {matrix[1][2]}\")\n",
    "print(f\"First row: {matrix[0]}\")\n",
    "print(f\"First column: {[row[0] for row in matrix]}\")\n",
    "\n",
    "# Data engineering example: Sales data by store and month\n",
    "sales_data: List[List[Any]] = [\n",
    "    [\"Store\", \"Jan\", \"Feb\", \"Mar\"],  # Header row\n",
    "    [\"Store A\", 1000, 1200, 1100],\n",
    "    [\"Store B\", 800, 900, 950],\n",
    "    [\"Store C\", 1500, 1600, 1400]\n",
    "]\n",
    "\n",
    "print(\"\\nSales Data:\")\n",
    "for row in sales_data:\n",
    "    print(row)\n",
    "\n",
    "# Extract specific data\n",
    "store_names: List[str] = [row[0] for row in sales_data[1:]]  # Skip header\n",
    "jan_sales: List[int] = [row[1] for row in sales_data[1:]]  # January sales\n",
    "\n",
    "print(f\"\\nStore names: {store_names}\")\n",
    "print(f\"January sales: {jan_sales}\")\n",
    "print(f\"Total January sales: {sum(jan_sales)}\")"
   ]
  },
  {
   "cell_type": "markdown",
   "metadata": {},
   "source": [
    "## 6. Practical Data Engineering Examples"
   ]
  },
  {
   "cell_type": "code",
   "execution_count": null,
   "metadata": {},
   "outputs": [],
   "source": [
    "# Example 1: Processing sensor readings\n",
    "sensor_readings: List[float] = [23.5, 24.1, 22.8, 25.0, 23.9, 24.3, 22.5]\n",
    "\n",
    "print(f\"Sensor readings: {sensor_readings}\")\n",
    "print(f\"Average temperature: {sum(sensor_readings) / len(sensor_readings):.2f}\")\n",
    "print(f\"Min temperature: {min(sensor_readings)}\")\n",
    "print(f\"Max temperature: {max(sensor_readings)}\")\n",
    "\n",
    "# Find readings above average\n",
    "average: float = sum(sensor_readings) / len(sensor_readings)\n",
    "above_average: List[float] = [temp for temp in sensor_readings if temp > average]\n",
    "print(f\"Readings above average: {above_average}\")\n",
    "\n",
    "# Example 2: Processing batch data\n",
    "batch_sizes: List[int] = [100, 250, 180, 300, 220, 150]\n",
    "batch_sizes.sort(reverse=True)  # Sort largest first\n",
    "\n",
    "print(f\"\\nBatch sizes (largest first): {batch_sizes}\")\n",
    "print(f\"Top 3 batches: {batch_sizes[:3]}\")\n",
    "print(f\"Total records: {sum(batch_sizes)}\")\n",
    "\n",
    "# Example 3: Data validation\n",
    "data_with_errors: List[Any] = [1, 2, None, 4, \"error\", 6, 7]\n",
    "clean_data: List[int] = []\n",
    "\n",
    "for item in data_with_errors:\n",
    "    if isinstance(item, int):\n",
    "        clean_data.append(item)\n",
    "\n",
    "print(f\"\\nOriginal data: {data_with_errors}\")\n",
    "print(f\"Clean data: {clean_data}\")\n",
    "print(f\"Removed {len(data_with_errors) - len(clean_data)} invalid items\")"
   ]
  },
  {
   "cell_type": "markdown",
   "metadata": {},
   "source": [
    "## Practice Exercises\n",
    "\n",
    "Complete the following exercises to reinforce your understanding:"
   ]
  },
  {
   "cell_type": "code",
   "execution_count": null,
   "metadata": {},
   "outputs": [],
   "source": [
    "# Exercise 1: Create a function to find the second largest number in a list\n",
    "def find_second_largest(numbers: List[int]) -> int:\n",
    "    \"\"\"\n",
    "    Find the second largest number in a list.\n",
    "    \n",
    "    Args:\n",
    "        numbers: List of integers\n",
    "    \n",
    "    Returns:\n",
    "        Second largest number\n",
    "    \"\"\"\n",
    "    # TODO: Implement this function\n",
    "    pass\n",
    "\n",
    "# Test your function\n",
    "test_numbers: List[int] = [64, 34, 25, 12, 22, 11, 90]\n",
    "# Expected result: 64\n",
    "# result = find_second_largest(test_numbers)\n",
    "# print(f\"Second largest: {result}\")"
   ]
  },
  {
   "cell_type": "code",
   "execution_count": null,
   "metadata": {},
   "outputs": [],
   "source": [
    "# Exercise 2: Extract a specific column from a 2D matrix\n",
    "def extract_column(matrix: List[List[Any]], column_index: int) -> List[Any]:\n",
    "    \"\"\"\n",
    "    Extract a specific column from a 2D matrix.\n",
    "    \n",
    "    Args:\n",
    "        matrix: 2D list\n",
    "        column_index: Index of column to extract\n",
    "    \n",
    "    Returns:\n",
    "        List containing the column values\n",
    "    \"\"\"\n",
    "    # TODO: Implement this function\n",
    "    pass\n",
    "\n",
    "# Test your function\n",
    "test_matrix: List[List[Any]] = [\n",
    "    [\"Name\", \"Age\", \"City\"],\n",
    "    [\"Alice\", 25, \"New York\"],\n",
    "    [\"Bob\", 30, \"London\"],\n",
    "    [\"Charlie\", 35, \"Tokyo\"]\n",
    "]\n",
    "# Expected result for column 1: [\"Age\", 25, 30, 35]\n",
    "# ages = extract_column(test_matrix, 1)\n",
    "# print(f\"Age column: {ages}\")"
   ]
  },
  {
   "cell_type": "code",
   "execution_count": null,
   "metadata": {},
   "outputs": [],
   "source": [
    "# Exercise 3: Process sales data to find top performers\n",
    "def find_top_performers(sales_data: List[List[Any]], top_n: int = 3) -> List[List[Any]]:\n",
    "    \"\"\"\n",
    "    Find top N performers based on total sales.\n",
    "    \n",
    "    Args:\n",
    "        sales_data: List where each inner list is [name, q1_sales, q2_sales, q3_sales, q4_sales]\n",
    "        top_n: Number of top performers to return\n",
    "    \n",
    "    Returns:\n",
    "        List of top performers with their total sales\n",
    "    \"\"\"\n",
    "    # TODO: Implement this function\n",
    "    # Hint: Calculate total sales for each person, then sort by total\n",
    "    pass\n",
    "\n",
    "# Test data\n",
    "quarterly_sales: List[List[Any]] = [\n",
    "    [\"Alice\", 1000, 1200, 1100, 1300],\n",
    "    [\"Bob\", 800, 900, 950, 1000],\n",
    "    [\"Charlie\", 1500, 1600, 1400, 1700],\n",
    "    [\"David\", 1200, 1100, 1300, 1400],\n",
    "    [\"Eve\", 900, 1000, 1050, 1100]\n",
    "]\n",
    "\n",
    "# Expected: Charlie should be #1 with highest total\n",
    "# top_performers = find_top_performers(quarterly_sales, 3)\n",
    "# print(f\"Top 3 performers: {top_performers}\")"
   ]
  },
  {
   "cell_type": "markdown",
   "metadata": {},
   "source": [
    "## Summary\n",
    "\n",
    "In this notebook, you learned:\n",
    "\n",
    "1. **List Creation**: How to create typed lists for different data types\n",
    "2. **Slicing**: Various slicing techniques for extracting data subsets\n",
    "3. **Sorting**: Different methods to sort lists and custom sorting criteria\n",
    "4. **Manipulation**: Adding, removing, and modifying list elements\n",
    "5. **Multi-dimensional Arrays**: Working with nested lists for structured data\n",
    "6. **Practical Applications**: Real-world data engineering scenarios\n",
    "\n",
    "These skills are fundamental for data engineering tasks like:\n",
    "- Processing batch data\n",
    "- Cleaning and validating datasets\n",
    "- Extracting specific data subsets\n",
    "- Organizing data for analysis\n",
    "\n",
    "**Next Steps**: Practice the exercises above and move on to the Dictionary notebook to learn about key-value data structures."
   ]
  }
 ],
 "metadata": {
  "kernelspec": {
   "display_name": "Python 3",
   "language": "python",
   "name": "python3"
  },
  "language_info": {
   "codemirror_mode": {
    "name": "ipython",
    "version": 3
   },
   "file_extension": ".py",
   "mimetype": "text/x-python",
   "name": "python",
   "nbconvert_exporter": "python",
   "pygments_lexer": "ipython3",
   "version": "3.8.0"
  }
 },
 "nbformat": 4,
 "nbformat_minor": 4
}