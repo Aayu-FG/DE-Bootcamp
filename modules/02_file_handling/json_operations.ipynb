{
 "cells": [
  {
   "cell_type": "markdown",
   "metadata": {},
   "source": [
    "# JSON File Operations\n",
    "\n",
    "## Learning Objectives\n",
    "By the end of this notebook, you will be able to:\n",
    "- Read and write JSON files using Python's json module\n",
    "- Create JSON files using Jupyter's %%writefile magic command\n",
    "- Handle JSON parsing exceptions and errors\n",
    "- Work with nested JSON structures\n",
    "- Process and validate JSON data efficiently\n",
    "\n",
    "## Note on %%writefile Magic Command\n",
    "In this notebook, we'll use Jupyter's `%%writefile` magic command to create JSON files directly in cells. This is a convenient way to create sample data files without writing separate Python code for file creation."
   ]
  },
  {
   "cell_type": "markdown",
   "metadata": {},
   "source": [
    "## 1. Basic JSON Reading and Writing"
   ]
  },
  {
   "cell_type": "code",
   "execution_count": null,
   "metadata": {},
   "outputs": [],
   "source": [
    "import json\n",
    "import os"
   ]
  },
  {
   "cell_type": "code",
   "execution_count": null,
   "metadata": {},
   "outputs": [],
   "source": [
    "%%writefile user_data.json\n",
    "{\n",
    "  \"user_id\": \"USR001\",\n",
    "  \"name\": \"Alice Johnson\",\n",
    "  \"email\": \"alice.johnson@example.com\",\n",
    "  \"age\": 28,\n",
    "  \"is_active\": true,\n",
    "  \"skills\": [\"Python\", \"SQL\", \"Data Analysis\"],\n",
    "  \"preferences\": {\n",
    "    \"theme\": \"dark\",\n",
    "    \"notifications\": true,\n",
    "    \"language\": \"en\"\n",
    "  }\n",
    "}"
   ]
  },
  {
   "cell_type": "code",
   "execution_count": null,
   "metadata": {},
   "outputs": [],
   "source": [
    "# Reading JSON from file - basic method\n",
    "with open('user_data.json', 'r') as file:\n",
    "    user_data = json.load(file)\n",
    "\n",
    "print(\"Loaded user data:\")\n",
    "print(f\"Name: {user_data['name']}\")\n",
    "print(f\"Email: {user_data['email']}\")\n",
    "print(f\"Age: {user_data['age']}\")\n",
    "print(f\"Skills: {user_data['skills']}\")\n",
    "print(f\"Theme preference: {user_data['preferences']['theme']}\")"
   ]
  },
  {
   "cell_type": "code",
   "execution_count": null,
   "metadata": {},
   "outputs": [],
   "source": [
    "# Writing JSON to file - basic method\n",
    "new_user = {\n",
    "    \"user_id\": \"USR002\",\n",
    "    \"name\": \"Bob Smith\",\n",
    "    \"email\": \"bob.smith@example.com\",\n",
    "    \"age\": 32,\n",
    "    \"is_active\": False,\n",
    "    \"skills\": [\"JavaScript\", \"React\", \"Node.js\"]\n",
    "}\n",
    "\n",
    "# Write new user data to file\n",
    "with open('new_user.json', 'w') as file:\n",
    "    json.dump(new_user, file, indent=2)\n",
    "\n",
    "print(\"Created new_user.json\")\n",
    "\n",
    "# Verify the file was created\n",
    "with open('new_user.json', 'r') as file:\n",
    "    content = file.read()\n",
    "    print(\"\\nFile contents:\")\n",
    "    print(content)"
   ]
  },
  {
   "cell_type": "markdown",
   "metadata": {},
   "source": [
    "## 2. Working with JSON Strings and Error Handling"
   ]
  },
  {
   "cell_type": "code",
   "execution_count": null,
   "metadata": {},
   "outputs": [],
   "source": [
    "# Converting Python objects to JSON strings\n",
    "product_data = {\n",
    "    \"product_id\": \"PRD001\",\n",
    "    \"name\": \"Wireless Headphones\",\n",
    "    \"price\": 99.99,\n",
    "    \"in_stock\": True,\n",
    "    \"categories\": [\"Electronics\", \"Audio\"]\n",
    "}\n",
    "\n",
    "# Convert to JSON string\n",
    "json_string = json.dumps(product_data, indent=2)\n",
    "print(\"Product data as JSON string:\")\n",
    "print(json_string)\n",
    "\n",
    "# Convert JSON string back to Python object\n",
    "parsed_data = json.loads(json_string)\n",
    "print(f\"\\nProduct name: {parsed_data['name']}\")\n",
    "print(f\"Price: ${parsed_data['price']}\")\n",
    "print(f\"Categories: {parsed_data['categories']}\")"
   ]
  },
  {
   "cell_type": "code",
   "execution_count": null,
   "metadata": {},
   "outputs": [],
   "source": [
    "%%writefile products.json\n",
    "[\n",
    "  {\n",
    "    \"id\": \"P001\",\n",
    "    \"name\": \"Laptop\",\n",
    "    \"price\": 999.99,\n",
    "    \"category\": \"Electronics\"\n",
    "  },\n",
    "  {\n",
    "    \"id\": \"P002\",\n",
    "    \"name\": \"Mouse\",\n",
    "    \"price\": 25.50,\n",
    "    \"category\": \"Electronics\"\n",
    "  },\n",
    "  {\n",
    "    \"id\": \"P003\",\n",
    "    \"name\": \"Desk\",\n",
    "    \"price\": 299.99,\n",
    "    \"category\": \"Furniture\"\n",
    "  }\n",
    "]"
   ]
  },
  {
   "cell_type": "code",
   "execution_count": null,
   "metadata": {},
   "outputs": [],
   "source": [
    "# Reading JSON array and processing data\n",
    "with open('products.json', 'r') as file:\n",
    "    products = json.load(file)\n",
    "\n",
    "print(f\"Loaded {len(products)} products:\")\n",
    "print()\n",
    "\n",
    "total_value = 0\n",
    "for product in products:\n",
    "    print(f\"Product: {product['name']} (ID: {product['id']})\")\n",
    "    print(f\"  Price: ${product['price']:.2f}\")\n",
    "    print(f\"  Category: {product['category']}\")\n",
    "    total_value += product['price']\n",
    "    print()\n",
    "\n",
    "print(f\"Total inventory value: ${total_value:.2f}\")"
   ]
  },
  {
   "cell_type": "markdown",
   "metadata": {},
   "source": [
    "## 3. Error Handling with JSON"
   ]
  },
  {
   "cell_type": "code",
   "execution_count": null,
   "metadata": {},
   "outputs": [],
   "source": [
    "%%writefile invalid_data.json\n",
    "{\n",
    "  \"name\": \"Test Product\",\n",
    "  \"price\": 99.99,\n",
    "  \"invalid_json\": true,\n",
    "  \"missing_quote: \"This will cause an error\"\n",
    "}"
   ]
  },
  {
   "cell_type": "code",
   "execution_count": null,
   "metadata": {},
   "outputs": [],
   "source": [
    "# Function to safely read JSON with error handling\n",
    "def read_json_safely(filename):\n",
    "    try:\n",
    "        with open(filename, 'r') as file:\n",
    "            data = json.load(file)\n",
    "            return data\n",
    "    except FileNotFoundError:\n",
    "        print(f\"Error: File '{filename}' not found\")\n",
    "        return None\n",
    "    except json.JSONDecodeError as e:\n",
    "        print(f\"Error: Invalid JSON in '{filename}' - {e}\")\n",
    "        return None\n",
    "    except Exception as e:\n",
    "        print(f\"Unexpected error reading '{filename}': {e}\")\n",
    "        return None\n",
    "\n",
    "# Test with valid file\n",
    "print(\"Testing with valid JSON file:\")\n",
    "valid_data = read_json_safely('user_data.json')\n",
    "if valid_data:\n",
    "    print(f\"Successfully loaded: {valid_data['name']}\")\n",
    "\n",
    "print(\"\\nTesting with invalid JSON file:\")\n",
    "invalid_data = read_json_safely('invalid_data.json')\n",
    "\n",
    "print(\"\\nTesting with non-existent file:\")\n",
    "missing_data = read_json_safely('missing_file.json')"
   ]
  },
  {
   "cell_type": "markdown",
   "metadata": {},
   "source": [
    "## 4. Processing and Modifying JSON Data"
   ]
  },
  {
   "cell_type": "code",
   "execution_count": null,
   "metadata": {},
   "outputs": [],
   "source": [
    "# Load products and add calculated fields\n",
    "with open('products.json', 'r') as file:\n",
    "    products = json.load(file)\n",
    "\n",
    "# Add tax and final price to each product\n",
    "tax_rate = 0.08  # 8% tax\n",
    "enhanced_products = []\n",
    "\n",
    "for product in products:\n",
    "    # Create a copy of the product\n",
    "    enhanced_product = product.copy()\n",
    "    \n",
    "    # Calculate tax and final price\n",
    "    price = product['price']\n",
    "    tax_amount = price * tax_rate\n",
    "    final_price = price + tax_amount\n",
    "    \n",
    "    # Add new fields\n",
    "    enhanced_product['tax_amount'] = round(tax_amount, 2)\n",
    "    enhanced_product['final_price'] = round(final_price, 2)\n",
    "    \n",
    "    # Add price category\n",
    "    if price >= 500:\n",
    "        category = 'Premium'\n",
    "    elif price >= 100:\n",
    "        category = 'Standard'\n",
    "    else:\n",
    "        category = 'Budget'\n",
    "    \n",
    "    enhanced_product['price_category'] = category\n",
    "    \n",
    "    enhanced_products.append(enhanced_product)\n",
    "\n",
    "# Save enhanced products\n",
    "with open('enhanced_products.json', 'w') as file:\n",
    "    json.dump(enhanced_products, file, indent=2)\n",
    "\n",
    "print(\"Enhanced products with tax calculations:\")\n",
    "for product in enhanced_products:\n",
    "    print(f\"{product['name']} ({product['price_category']})\")\n",
    "    print(f\"  Base price: ${product['price']:.2f}\")\n",
    "    print(f\"  Tax: ${product['tax_amount']:.2f}\")\n",
    "    print(f\"  Final price: ${product['final_price']:.2f}\")\n",
    "    print()"
   ]
  }
 ],
 "metadata": {
  "kernelspec": {
   "display_name": "Python 3",
   "language": "python",
   "name": "python3"
  },
  "language_info": {
   "codemirror_mode": {
    "name": "ipython",
    "version": 3
   },
   "file_extension": ".py",
   "mimetype": "text/x-python",
   "name": "python",
   "nbconvert_exporter": "python",
   "pygments_lexer": "ipython3",
   "version": "3.13.5"
  }
 },
 "nbformat": 4,
 "nbformat_minor": 4
}
