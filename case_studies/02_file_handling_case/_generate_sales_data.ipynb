{
 "cells": [
  {
   "cell_type": "markdown",
   "metadata": {},
   "source": [
    "### Create Full Load Data (CSV) - Complete Dataset"
   ]
  },
  {
   "cell_type": "code",
   "execution_count": null,
   "metadata": {},
   "outputs": [],
   "source": [
    "%%writefile sales_full.csv\n",
    "transaction_id,customer_id,product_name,quantity,price,sale_date\n",
    "TXN001,CUST001,Laptop,1,999.99,2025-09-01\n",
    "TXN002,CUST002,Mouse,2,25.50,2025-09-01\n",
    "TXN003,CUST001,Keyboard,1,75.00,2025-09-02\n",
    "TXN004,CUST003,Monitor,1,299.99,2025-09-02\n",
    "TXN005,CUST002,Headphones,1,89.99,2025-09-03\n",
    "TXN006,CUST003,Webcam,1,49.99,2025-09-03\n",
    "TXN007,CUST001,Tablet,1,399.99,2025-09-04"
   ]
  },
  {
   "cell_type": "markdown",
   "metadata": {},
   "source": [
    "### Create Incremental Load Data (JSON) - Incremental data"
   ]
  },
  {
   "cell_type": "code",
   "execution_count": null,
   "metadata": {},
   "outputs": [],
   "source": [
    "%%writefile sales_2025_09_28.json\n",
    "[\n",
    "  {\n",
    "    \"transaction_id\": \"TXN008\",\n",
    "    \"customer_id\": \"CUST002\",\n",
    "    \"product_name\": \"Speaker\",\n",
    "    \"quantity\": 1,\n",
    "    \"price\": 79.99,\n",
    "    \"sale_date\": \"2025-09-05\"\n",
    "  },\n",
    "  {\n",
    "    \"transaction_id\": \"TXN009\",\n",
    "    \"customer_id\": \"CUST004\",\n",
    "    \"product_name\": \"Phone\",\n",
    "    \"quantity\": 1,\n",
    "    \"price\": 699.99,\n",
    "    \"sale_date\": \"2025-09-05\"\n",
    "  },\n",
    "  {\n",
    "    \"transaction_id\": \"TXN010\",\n",
    "    \"customer_id\": \"CUST003\",\n",
    "    \"product_name\": \"Cable\",\n",
    "    \"quantity\": 3,\n",
    "    \"price\": 15.99,\n",
    "    \"sale_date\": \"2025-09-06\"\n",
    "  }\n",
    "]"
   ]
  },
  {
   "cell_type": "markdown",
   "metadata": {},
   "source": [
    "### Create Incremental Load Data (JSON) - Incremental data With Duplicates"
   ]
  },
  {
   "cell_type": "code",
   "execution_count": null,
   "metadata": {},
   "outputs": [],
   "source": [
    "%%writefile sales_2025_09_29.json\n",
    "[\n",
    "  {\n",
    "    \"transaction_id\": \"TXN008\",\n",
    "    \"customer_id\": \"CUST002\",\n",
    "    \"product_name\": \"Speaker\",\n",
    "    \"quantity\": 1,\n",
    "    \"price\": 79.99,\n",
    "    \"sale_date\": \"2025-09-05\"\n",
    "  },\n",
    "  {\n",
    "    \"transaction_id\": \"TXN009\",\n",
    "    \"customer_id\": \"CUST004\",\n",
    "    \"product_name\": \"Phone\",\n",
    "    \"quantity\": 1,\n",
    "    \"price\": 699.99,\n",
    "    \"sale_date\": \"2025-09-05\"\n",
    "  },\n",
    "  {\n",
    "    \"transaction_id\": \"TXN010\",\n",
    "    \"customer_id\": \"CUST003\",\n",
    "    \"product_name\": \"Cable\",\n",
    "    \"quantity\": 3,\n",
    "    \"price\": 15.99,\n",
    "    \"sale_date\": \"2025-09-06\"\n",
    "  },\n",
    "  {\n",
    "    \"transaction_id\": \"TXN011\",\n",
    "    \"customer_id\": \"CUST002\",\n",
    "    \"product_name\": \"Charger\",\n",
    "    \"quantity\": 1,\n",
    "    \"price\": 30.99,\n",
    "    \"sale_date\": \"2025-09-08\"\n",
    "  },\n",
    "  {\n",
    "    \"transaction_id\": \"TXN012\",\n",
    "    \"customer_id\": \"CUST004\",\n",
    "    \"product_name\": \"Charger\",\n",
    "    \"quantity\": 1,\n",
    "    \"price\": 30.99,\n",
    "    \"sale_date\": \"2025-09-09\"\n",
    "  },\n",
    "  {\n",
    "    \"transaction_id\": \"TXN013\",\n",
    "    \"customer_id\": \"CUST003\",\n",
    "    \"product_name\": \"Charger\",\n",
    "    \"quantity\": 1,\n",
    "    \"price\": 30.99,\n",
    "    \"sale_date\": \"2025-09-09\"\n",
    "  }\n",
    "]"
   ]
  }
 ],
 "metadata": {
  "kernelspec": {
   "display_name": "Python 3",
   "language": "python",
   "name": "python3"
  },
  "language_info": {
   "codemirror_mode": {
    "name": "ipython",
    "version": 3
   },
   "file_extension": ".py",
   "mimetype": "text/x-python",
   "name": "python",
   "nbconvert_exporter": "python",
   "pygments_lexer": "ipython3",
   "version": "3.13.5"
  }
 },
 "nbformat": 4,
 "nbformat_minor": 4
}
